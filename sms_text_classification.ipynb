{
  "cells": [
    {
      "cell_type": "code",
      "execution_count": 1,
      "metadata": {
        "id": "8RZOuS9LWQvv"
      },
      "outputs": [
        {
          "name": "stderr",
          "output_type": "stream",
          "text": [
            "2023-01-12 19:52:07.444517: I tensorflow/core/platform/cpu_feature_guard.cc:193] This TensorFlow binary is optimized with oneAPI Deep Neural Network Library (oneDNN) to use the following CPU instructions in performance-critical operations:  SSE4.1 SSE4.2 AVX AVX2 FMA\n",
            "To enable them in other operations, rebuild TensorFlow with the appropriate compiler flags.\n"
          ]
        },
        {
          "name": "stdout",
          "output_type": "stream",
          "text": [
            "2.11.0\n"
          ]
        }
      ],
      "source": [
        "# import libraries\n",
        "#try:\n",
        "  # %tensorflow_version only exists in Colab.\n",
        "#  !pip install tf-nightly\n",
        "#except Exception:\n",
        "#  pass\n",
        "import tensorflow as tf\n",
        "import pandas as pd\n",
        "from tensorflow import keras\n",
        "from keras.callbacks import EarlyStopping, ReduceLROnPlateau\n",
        "#!pip install tensorflow-datasets\n",
        "#import tensorflow_datasets as tfds\n",
        "import numpy as np\n",
        "import matplotlib.pyplot as plt\n",
        "\n",
        "print(tf.__version__)\n"
      ]
    },
    {
      "cell_type": "code",
      "execution_count": 2,
      "metadata": {
        "id": "lMHwYXHXCar3"
      },
      "outputs": [],
      "source": [
        "# get data files\n",
        "#!wget https://cdn.freecodecamp.org/project-data/sms/train-data.tsv\n",
        "#!wget https://cdn.freecodecamp.org/project-data/sms/valid-data.tsv\n",
        "import pandas as pd\n",
        "train_file_path = \"train-data.tsv\"\n",
        "test_file_path = \"valid-data.tsv\"\n",
        "\n",
        "train = pd.read_csv(train_file_path, sep='\\t', header=None)\n",
        "test = pd.read_csv(test_file_path, sep='\\t', header=None)\n",
        "train.columns = ['label', 'text']\n",
        "test.columns = ['label', 'text']\n",
        "\n",
        "del train_file_path, test_file_path\n"
      ]
    },
    {
      "cell_type": "code",
      "execution_count": 3,
      "metadata": {},
      "outputs": [
        {
          "name": "stdout",
          "output_type": "stream",
          "text": [
            "label    0\n",
            "text     0\n",
            "dtype: int64\n",
            "label    0\n",
            "text     0\n",
            "dtype: int64\n"
          ]
        }
      ],
      "source": [
        "# Exploratory Data Analysis - check missing values\n",
        "print(train.isna().sum())\n",
        "print(test.isna().sum())\n"
      ]
    },
    {
      "cell_type": "code",
      "execution_count": 4,
      "metadata": {
        "id": "zOMKywn4zReN"
      },
      "outputs": [
        {
          "name": "stdout",
          "output_type": "stream",
          "text": [
            "ham     0.865997\n",
            "spam    0.134003\n",
            "Name: label, dtype: float64\n",
            "ham     0.865661\n",
            "spam    0.134339\n",
            "Name: label, dtype: float64\n"
          ]
        }
      ],
      "source": [
        "# Exploratory Data Analysis - value counts\n",
        "print(train['label'].value_counts(normalize=True))\n",
        "print(test['label'].value_counts(normalize=True))\n"
      ]
    },
    {
      "cell_type": "code",
      "execution_count": 5,
      "metadata": {},
      "outputs": [
        {
          "name": "stdout",
          "output_type": "stream",
          "text": [
            "ham     560\n",
            "spam    560\n",
            "Name: label, dtype: int64\n",
            "ham     187\n",
            "spam    187\n",
            "Name: label, dtype: int64\n"
          ]
        }
      ],
      "source": [
        "# Downsampling to balance the dataset\n",
        "#####################################\n",
        "import pandas as pd\n",
        "\n",
        "def downsampling_to_balance(data, label_column):\n",
        "    value_counts = pd.DataFrame(data[label_column].value_counts())\n",
        "    unique_labels = value_counts.index\n",
        "    min_frequency = min(value_counts[label_column])\n",
        "    downsampled_df = pd.DataFrame()\n",
        "    for label in unique_labels:\n",
        "        data_reduced = data[data[label_column] == label]\n",
        "        data_reduced = data_reduced.sample(n=min_frequency, random_state=123)\n",
        "        downsampled_df = pd.concat([downsampled_df, data_reduced], ignore_index=True)\n",
        "    # Shuffle rows\n",
        "    downsampled_df = downsampled_df.sample(frac = 1).reset_index(drop=True)\n",
        "    \n",
        "    return downsampled_df\n",
        "    \n",
        "balanced_train_data = downsampling_to_balance(train, 'label')\n",
        "balanced_test_data = downsampling_to_balance(test, 'label')\n",
        "\n",
        "# Analize value counts of down sampled dataset\n",
        "print(balanced_train_data['label'].value_counts())\n",
        "print(balanced_test_data['label'].value_counts())\n"
      ]
    },
    {
      "cell_type": "code",
      "execution_count": 6,
      "metadata": {},
      "outputs": [
        {
          "data": {
            "text/html": [
              "<div>\n",
              "<style scoped>\n",
              "    .dataframe tbody tr th:only-of-type {\n",
              "        vertical-align: middle;\n",
              "    }\n",
              "\n",
              "    .dataframe tbody tr th {\n",
              "        vertical-align: top;\n",
              "    }\n",
              "\n",
              "    .dataframe thead th {\n",
              "        text-align: right;\n",
              "    }\n",
              "</style>\n",
              "<table border=\"1\" class=\"dataframe\">\n",
              "  <thead>\n",
              "    <tr style=\"text-align: right;\">\n",
              "      <th></th>\n",
              "      <th>label</th>\n",
              "      <th>text</th>\n",
              "    </tr>\n",
              "  </thead>\n",
              "  <tbody>\n",
              "    <tr>\n",
              "      <th>0</th>\n",
              "      <td>0</td>\n",
              "      <td>plan family set stone</td>\n",
              "    </tr>\n",
              "    <tr>\n",
              "      <th>1</th>\n",
              "      <td>0</td>\n",
              "      <td>fine hope good take care</td>\n",
              "    </tr>\n",
              "    <tr>\n",
              "      <th>2</th>\n",
              "      <td>0</td>\n",
              "      <td>barred b q store life twat orange dungerees ca...</td>\n",
              "    </tr>\n",
              "    <tr>\n",
              "      <th>3</th>\n",
              "      <td>0</td>\n",
              "      <td>mm feeling sleepy today shall get dear</td>\n",
              "    </tr>\n",
              "    <tr>\n",
              "      <th>4</th>\n",
              "      <td>0</td>\n",
              "      <td>joy father john john joy father u an th hav lt...</td>\n",
              "    </tr>\n",
              "  </tbody>\n",
              "</table>\n",
              "</div>"
            ],
            "text/plain": [
              "   label                                               text\n",
              "0      0                              plan family set stone\n",
              "1      0                           fine hope good take care\n",
              "2      0  barred b q store life twat orange dungerees ca...\n",
              "3      0             mm feeling sleepy today shall get dear\n",
              "4      0  joy father john john joy father u an th hav lt..."
            ]
          },
          "execution_count": 6,
          "metadata": {},
          "output_type": "execute_result"
        }
      ],
      "source": [
        "# Text preprocessing: Data cleaning\n",
        "###################################\n",
        "import nltk\n",
        "#nltk.download('all')\n",
        "import re\n",
        "from nltk.corpus import stopwords\n",
        "from nltk.stem import WordNetLemmatizer\n",
        "\n",
        "def text_preprocessing(data, text_column):\n",
        "    # Create a list text\n",
        "    text = list(data['text'])\n",
        "\n",
        "    # Preprocessing loop\n",
        "    lemmatizer = WordNetLemmatizer()\n",
        "\n",
        "    corpus = []\n",
        "    for i in range(len(text)):\n",
        "        r = re.sub('[^a-zA-Z]', ' ', text[i])\n",
        "        r = r.lower()\n",
        "        r = r.split()\n",
        "        r = [word for word in r if word not in stopwords.words('english')]\n",
        "        r = [lemmatizer.lemmatize(word) for word in r]\n",
        "        r = ' '.join(r)\n",
        "        corpus.append(r)\n",
        "\n",
        "    # Assign corpus to data['text']\n",
        "    data['text'] = corpus\n",
        "    \n",
        "    return data\n",
        "\n",
        "train = text_preprocessing(data=balanced_train_data, text_column=\"text\")\n",
        "test = text_preprocessing(data=balanced_test_data, text_column=\"text\")\n",
        "\n",
        "# Convert \"ham\" -> 0 and \"spam\" -> 1\n",
        "train['label'] = train['label'].replace({\"ham\": 0, \"spam\": 1})\n",
        "test['label'] = test['label'].replace({\"ham\": 0, \"spam\": 1})\n",
        "\n",
        "del stopwords\n",
        "\n",
        "train.head()\n"
      ]
    },
    {
      "cell_type": "code",
      "execution_count": 7,
      "metadata": {},
      "outputs": [],
      "source": [
        "# Divide into \"x\" and \"y\"\n",
        "train_X = train['text']\n",
        "test_X = test['text']\n",
        "\n",
        "train_y = train['label']\n",
        "test_y = test['label']\n"
      ]
    },
    {
      "cell_type": "code",
      "execution_count": 8,
      "metadata": {},
      "outputs": [],
      "source": [
        "# Tokenize train and test datasets\n",
        "##################################\n",
        "from keras.preprocessing.text import Tokenizer\n",
        "from tensorflow.keras.preprocessing.sequence import pad_sequences\n",
        "\n",
        "vocab_size = 500\n",
        "max_len = 50\n",
        "\n",
        "# Training the tokenizer\n",
        "token=Tokenizer(num_words=vocab_size,oov_token='<OOV>')\n",
        "token.fit_on_texts(train_X)\n",
        "\n",
        "# Check if tokenizer worked properly\n",
        "# token.word_index    \n",
        "\n",
        "# Generating token embeddings\n",
        "Training_seq = token.texts_to_sequences(train_X)\n",
        "Training_pad = pad_sequences(Training_seq,\n",
        "                                maxlen = max_len,\n",
        "                                padding = 'post',\n",
        "                                truncating = 'post')\n",
        "\n",
        "Testing_seq = token.texts_to_sequences(test_X)\n",
        "Testing_pad = pad_sequences(Testing_seq,\n",
        "                            maxlen = max_len,\n",
        "                            padding = 'post',\n",
        "                            truncating = 'post')\n"
      ]
    },
    {
      "cell_type": "code",
      "execution_count": 9,
      "metadata": {},
      "outputs": [],
      "source": [
        "from keras.layers import Embedding, GlobalAveragePooling1D, Dense, Dropout\n",
        "from keras.losses import BinaryCrossentropy\n",
        "from keras.callbacks import EarlyStopping, ReduceLROnPlateau\n",
        "\n",
        "# Create the architecture of the Neural Network\n",
        "def get_tf_text_classifier(vocab_size=500, output_dim=16, max_len=50):\n",
        "    model = keras.Sequential()\n",
        "    model.add(Embedding(input_dim=vocab_size, output_dim=output_dim, input_length=max_len))\n",
        "    model.add(GlobalAveragePooling1D())\n",
        "    model.add(Dense(32, activation='relu'))\n",
        "    model.add(Dropout(0.3))\n",
        "    model.add(Dense(1, activation='sigmoid'))\n",
        "\n",
        "    model.compile(loss = BinaryCrossentropy(from_logits = False), # Or True?\n",
        "                metrics = ['accuracy'],\n",
        "                optimizer = 'adam')\n",
        "    return model\n",
        "\n",
        "es = EarlyStopping(patience = 3,\n",
        "                   monitor = 'val_loss',\n",
        "                   min_delta = 1e-4,\n",
        "                   restore_best_weights = True)\n",
        "\n",
        "lr = ReduceLROnPlateau(patience = 2,\n",
        "                       monitor = 'val_loss',\n",
        "                       min_delta = 1e-4,\n",
        "                       factor = 0.5,\n",
        "                       verbose = 0)\n"
      ]
    },
    {
      "cell_type": "code",
      "execution_count": 10,
      "metadata": {},
      "outputs": [
        {
          "name": "stdout",
          "output_type": "stream",
          "text": [
            "Epoch 1/50\n"
          ]
        },
        {
          "name": "stderr",
          "output_type": "stream",
          "text": [
            "2023-01-12 19:53:36.904209: I tensorflow/core/platform/cpu_feature_guard.cc:193] This TensorFlow binary is optimized with oneAPI Deep Neural Network Library (oneDNN) to use the following CPU instructions in performance-critical operations:  SSE4.1 SSE4.2 AVX AVX2 FMA\n",
            "To enable them in other operations, rebuild TensorFlow with the appropriate compiler flags.\n"
          ]
        },
        {
          "name": "stdout",
          "output_type": "stream",
          "text": [
            "35/35 [==============================] - 1s 8ms/step - loss: 0.6915 - accuracy: 0.5661 - val_loss: 0.6877 - val_accuracy: 0.5294 - lr: 0.0010\n",
            "Epoch 2/50\n",
            "35/35 [==============================] - 0s 3ms/step - loss: 0.6823 - accuracy: 0.5536 - val_loss: 0.6737 - val_accuracy: 0.6979 - lr: 0.0010\n",
            "Epoch 3/50\n",
            "35/35 [==============================] - 0s 3ms/step - loss: 0.6617 - accuracy: 0.6884 - val_loss: 0.6429 - val_accuracy: 0.8155 - lr: 0.0010\n",
            "Epoch 4/50\n",
            "35/35 [==============================] - 0s 3ms/step - loss: 0.6202 - accuracy: 0.8107 - val_loss: 0.5867 - val_accuracy: 0.8342 - lr: 0.0010\n",
            "Epoch 5/50\n",
            "35/35 [==============================] - 0s 3ms/step - loss: 0.5494 - accuracy: 0.8643 - val_loss: 0.5009 - val_accuracy: 0.9118 - lr: 0.0010\n",
            "Epoch 6/50\n",
            "35/35 [==============================] - 0s 4ms/step - loss: 0.4604 - accuracy: 0.9071 - val_loss: 0.4079 - val_accuracy: 0.9198 - lr: 0.0010\n",
            "Epoch 7/50\n",
            "35/35 [==============================] - 0s 3ms/step - loss: 0.3688 - accuracy: 0.9232 - val_loss: 0.3234 - val_accuracy: 0.9171 - lr: 0.0010\n",
            "Epoch 8/50\n",
            "35/35 [==============================] - 0s 3ms/step - loss: 0.2977 - accuracy: 0.9339 - val_loss: 0.2594 - val_accuracy: 0.9278 - lr: 0.0010\n",
            "Epoch 9/50\n",
            "35/35 [==============================] - 0s 3ms/step - loss: 0.2442 - accuracy: 0.9455 - val_loss: 0.2159 - val_accuracy: 0.9412 - lr: 0.0010\n",
            "Epoch 10/50\n",
            "35/35 [==============================] - 0s 3ms/step - loss: 0.2035 - accuracy: 0.9464 - val_loss: 0.1852 - val_accuracy: 0.9465 - lr: 0.0010\n",
            "Epoch 11/50\n",
            "35/35 [==============================] - 0s 3ms/step - loss: 0.1714 - accuracy: 0.9571 - val_loss: 0.1682 - val_accuracy: 0.9385 - lr: 0.0010\n",
            "Epoch 12/50\n",
            "35/35 [==============================] - 0s 3ms/step - loss: 0.1540 - accuracy: 0.9571 - val_loss: 0.1476 - val_accuracy: 0.9492 - lr: 0.0010\n",
            "Epoch 13/50\n",
            "35/35 [==============================] - 0s 3ms/step - loss: 0.1424 - accuracy: 0.9580 - val_loss: 0.1355 - val_accuracy: 0.9519 - lr: 0.0010\n",
            "Epoch 14/50\n",
            "35/35 [==============================] - 0s 3ms/step - loss: 0.1244 - accuracy: 0.9607 - val_loss: 0.1262 - val_accuracy: 0.9599 - lr: 0.0010\n",
            "Epoch 15/50\n",
            "35/35 [==============================] - 0s 3ms/step - loss: 0.1099 - accuracy: 0.9723 - val_loss: 0.1190 - val_accuracy: 0.9652 - lr: 0.0010\n",
            "Epoch 16/50\n",
            "35/35 [==============================] - 0s 3ms/step - loss: 0.1073 - accuracy: 0.9696 - val_loss: 0.1131 - val_accuracy: 0.9679 - lr: 0.0010\n",
            "Epoch 17/50\n",
            "35/35 [==============================] - 0s 3ms/step - loss: 0.0974 - accuracy: 0.9741 - val_loss: 0.1089 - val_accuracy: 0.9626 - lr: 0.0010\n",
            "Epoch 18/50\n",
            "35/35 [==============================] - 0s 3ms/step - loss: 0.0978 - accuracy: 0.9759 - val_loss: 0.1051 - val_accuracy: 0.9652 - lr: 0.0010\n",
            "Epoch 19/50\n",
            "35/35 [==============================] - 0s 3ms/step - loss: 0.0911 - accuracy: 0.9750 - val_loss: 0.1012 - val_accuracy: 0.9652 - lr: 0.0010\n",
            "Epoch 20/50\n",
            "35/35 [==============================] - 0s 3ms/step - loss: 0.0817 - accuracy: 0.9759 - val_loss: 0.0987 - val_accuracy: 0.9679 - lr: 0.0010\n",
            "Epoch 21/50\n",
            "35/35 [==============================] - 0s 3ms/step - loss: 0.0811 - accuracy: 0.9759 - val_loss: 0.0960 - val_accuracy: 0.9706 - lr: 0.0010\n",
            "Epoch 22/50\n",
            "35/35 [==============================] - 0s 3ms/step - loss: 0.0789 - accuracy: 0.9786 - val_loss: 0.0946 - val_accuracy: 0.9652 - lr: 0.0010\n",
            "Epoch 23/50\n",
            "35/35 [==============================] - 0s 3ms/step - loss: 0.0772 - accuracy: 0.9768 - val_loss: 0.0929 - val_accuracy: 0.9679 - lr: 0.0010\n",
            "Epoch 24/50\n",
            "35/35 [==============================] - 0s 3ms/step - loss: 0.0689 - accuracy: 0.9804 - val_loss: 0.0918 - val_accuracy: 0.9652 - lr: 0.0010\n",
            "Epoch 25/50\n",
            "35/35 [==============================] - 0s 3ms/step - loss: 0.0693 - accuracy: 0.9804 - val_loss: 0.0899 - val_accuracy: 0.9706 - lr: 0.0010\n",
            "Epoch 26/50\n",
            "35/35 [==============================] - 0s 3ms/step - loss: 0.0624 - accuracy: 0.9777 - val_loss: 0.0872 - val_accuracy: 0.9679 - lr: 0.0010\n",
            "Epoch 27/50\n",
            "35/35 [==============================] - 0s 3ms/step - loss: 0.0655 - accuracy: 0.9804 - val_loss: 0.0859 - val_accuracy: 0.9679 - lr: 0.0010\n",
            "Epoch 28/50\n",
            "35/35 [==============================] - 0s 3ms/step - loss: 0.0614 - accuracy: 0.9821 - val_loss: 0.0852 - val_accuracy: 0.9679 - lr: 0.0010\n",
            "Epoch 29/50\n",
            "35/35 [==============================] - 0s 3ms/step - loss: 0.0574 - accuracy: 0.9839 - val_loss: 0.0849 - val_accuracy: 0.9706 - lr: 0.0010\n",
            "Epoch 30/50\n",
            "35/35 [==============================] - 0s 3ms/step - loss: 0.0585 - accuracy: 0.9821 - val_loss: 0.0850 - val_accuracy: 0.9679 - lr: 0.0010\n",
            "Epoch 31/50\n",
            "35/35 [==============================] - 0s 3ms/step - loss: 0.0545 - accuracy: 0.9848 - val_loss: 0.0895 - val_accuracy: 0.9679 - lr: 0.0010\n",
            "Epoch 32/50\n",
            "35/35 [==============================] - 0s 3ms/step - loss: 0.0529 - accuracy: 0.9839 - val_loss: 0.0845 - val_accuracy: 0.9679 - lr: 5.0000e-04\n",
            "Epoch 33/50\n",
            "35/35 [==============================] - 0s 3ms/step - loss: 0.0531 - accuracy: 0.9848 - val_loss: 0.0840 - val_accuracy: 0.9679 - lr: 5.0000e-04\n",
            "Epoch 34/50\n",
            "35/35 [==============================] - 0s 3ms/step - loss: 0.0544 - accuracy: 0.9857 - val_loss: 0.0836 - val_accuracy: 0.9679 - lr: 5.0000e-04\n",
            "Epoch 35/50\n",
            "35/35 [==============================] - 0s 3ms/step - loss: 0.0495 - accuracy: 0.9848 - val_loss: 0.0838 - val_accuracy: 0.9679 - lr: 5.0000e-04\n",
            "Epoch 36/50\n",
            "35/35 [==============================] - 0s 3ms/step - loss: 0.0495 - accuracy: 0.9857 - val_loss: 0.0838 - val_accuracy: 0.9679 - lr: 5.0000e-04\n",
            "Epoch 37/50\n",
            "35/35 [==============================] - 0s 3ms/step - loss: 0.0492 - accuracy: 0.9848 - val_loss: 0.0829 - val_accuracy: 0.9706 - lr: 2.5000e-04\n",
            "Epoch 38/50\n",
            "35/35 [==============================] - 0s 3ms/step - loss: 0.0493 - accuracy: 0.9839 - val_loss: 0.0832 - val_accuracy: 0.9706 - lr: 2.5000e-04\n",
            "Epoch 39/50\n",
            "35/35 [==============================] - 0s 3ms/step - loss: 0.0492 - accuracy: 0.9857 - val_loss: 0.0830 - val_accuracy: 0.9706 - lr: 2.5000e-04\n",
            "Epoch 40/50\n",
            "35/35 [==============================] - 0s 3ms/step - loss: 0.0467 - accuracy: 0.9875 - val_loss: 0.0831 - val_accuracy: 0.9679 - lr: 1.2500e-04\n",
            "Train error 0.987500011920929\n",
            "Test error  0.970588207244873\n"
          ]
        },
        {
          "data": {
            "image/png": "[encoded data removed]",
            "text/plain": [
              "<Figure size 800x500 with 1 Axes>"
            ]
          },
          "metadata": {},
          "output_type": "display_data"
        }
      ],
      "source": [
        "# Initiate model\n",
        "model = get_tf_text_classifier()\n",
        "\n",
        "# Train the model\n",
        "history = model.fit(Training_pad, train_y,\n",
        "                    validation_data=(Testing_pad, test_y),\n",
        "                    epochs = 50,\n",
        "                    verbose = 1,\n",
        "                    batch_size = 32,\n",
        "                    callbacks = [lr, es])\n",
        "\n",
        "# Compute test error\n",
        "score_test = model.evaluate(x=Testing_pad, y=test_y, verbose=0)\n",
        "\n",
        "# Print results\n",
        "print('Train error', history.history['accuracy'][-1])\n",
        "print('Test error ', score_test[1])\n",
        "\n",
        "# Plot training and validation history\n",
        "pd.DataFrame(history.history).plot(figsize=(8,5))\n",
        "plt.show()\n"
      ]
    },
    {
      "cell_type": "code",
      "execution_count": 11,
      "metadata": {
        "id": "J9tD9yACG6M9"
      },
      "outputs": [
        {
          "name": "stdout",
          "output_type": "stream",
          "text": [
            "1/1 [==============================] - 0s 111ms/step\n",
            "[0.6635248, 'spam']\n"
          ]
        }
      ],
      "source": [
        "# function to predict messages based on model\n",
        "# (should return list containing prediction and label, ex. [0.008318834938108921, 'ham'])\n",
        "\n",
        "def predict_message(pred_text):\n",
        "  # Tokenize\n",
        "  new_seq = token.texts_to_sequences([pred_text])\n",
        "  padded = pad_sequences(new_seq, maxlen =50,\n",
        "                    padding = 'post',\n",
        "                    truncating='post')\n",
        "  prediction = model.predict(padded)\n",
        "  prediction = prediction[0][0]\n",
        "  return [prediction, \"ham\" if prediction < 0.5 else \"spam\"]\n",
        "\n",
        "pred_text =  \"sale today! to stop texts call 98912460324?\"\n",
        "\n",
        "prediction = predict_message(pred_text)\n",
        "\n",
        "print(prediction)\n"
      ]
    },
    {
      "cell_type": "code",
      "execution_count": 12,
      "metadata": {
        "id": "Dxotov85SjsC"
      },
      "outputs": [
        {
          "name": "stdout",
          "output_type": "stream",
          "text": [
            "1/1 [==============================] - 0s 19ms/step\n",
            "1/1 [==============================] - 0s 18ms/step\n",
            "1/1 [==============================] - 0s 17ms/step\n",
            "1/1 [==============================] - 0s 19ms/step\n",
            "1/1 [==============================] - 0s 18ms/step\n",
            "1/1 [==============================] - 0s 18ms/step\n",
            "1/1 [==============================] - 0s 17ms/step\n",
            "You passed the challenge. Great job!\n"
          ]
        }
      ],
      "source": [
        "# Run this cell to test your function and model. Do not modify contents.\n",
        "def test_predictions():\n",
        "  test_messages = [\"how are you doing today\",\n",
        "                   \"sale today! to stop texts call 98912460324\",\n",
        "                   \"i dont want to go. can we try it a different day? available sat\",\n",
        "                   \"our new mobile video service is live. just install on your phone to start watching.\",\n",
        "                   \"you have won £1000 cash! call to claim your prize.\",\n",
        "                   \"i'll bring it tomorrow. don't forget the milk.\",\n",
        "                   \"wow, is your arm alright. that happened to me one time too\"\n",
        "                  ]\n",
        "\n",
        "  test_answers = [\"ham\", \"spam\", \"ham\", \"spam\", \"spam\", \"ham\", \"ham\"]\n",
        "  passed = True\n",
        "\n",
        "  for msg, ans in zip(test_messages, test_answers):\n",
        "    prediction = predict_message(msg)\n",
        "    if prediction[1] != ans:\n",
        "      passed = False\n",
        "\n",
        "  if passed:\n",
        "    print(\"You passed the challenge. Great job!\")\n",
        "  else:\n",
        "    print(\"You haven't passed yet. Keep trying.\")\n",
        "\n",
        "test_predictions()\n"
      ]
    }
  ],
  "metadata": {
    "colab": {
      "name": "fcc_sms_text_classification.ipynb",
      "private_outputs": true,
      "provenance": [],
      "toc_visible": true
    },
    "kernelspec": {
      "display_name": "my_ml_env_39",
      "language": "python",
      "name": "python3"
    },
    "language_info": {
      "codemirror_mode": {
        "name": "ipython",
        "version": 3
      },
      "file_extension": ".py",
      "mimetype": "text/x-python",
      "name": "python",
      "nbconvert_exporter": "python",
      "pygments_lexer": "ipython3",
      "version": "3.9.15"
    },
    "vscode": {
      "interpreter": {
        "hash": "22b43b7cabb8e439942e8b3599732587a068fb79f44b704b7e8ee482b79e24ab"
      }
    }
  },
  "nbformat": 4,
  "nbformat_minor": 0
}
