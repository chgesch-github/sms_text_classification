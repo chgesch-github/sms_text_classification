{
  "cells": [
    {
      "cell_type": "code",
      "execution_count": null,
      "metadata": {},
      "outputs": [],
      "source": [
        "##################\n",
        "# Get data files #\n",
        "##################\n",
        "#!wget https://cdn.freecodecamp.org/project-data/sms/train-data.tsv\n",
        "#!wget https://cdn.freecodecamp.org/project-data/sms/valid-data.tsv"
      ]
    },
    {
      "cell_type": "code",
      "execution_count": 1,
      "metadata": {
        "id": "lMHwYXHXCar3"
      },
      "outputs": [],
      "source": [
        "###############\n",
        "# Import data #\n",
        "###############\n",
        "import pandas as pd\n",
        "\n",
        "train = pd.read_csv(\"train-data.tsv\", sep='\\t', header=None)\n",
        "test = pd.read_csv(\"valid-data.tsv\", sep='\\t', header=None)\n",
        "\n",
        "train.columns = ['label', 'text']\n",
        "test.columns = ['label', 'text']\n"
      ]
    },
    {
      "cell_type": "code",
      "execution_count": 2,
      "metadata": {},
      "outputs": [
        {
          "name": "stdout",
          "output_type": "stream",
          "text": [
            "label    0\n",
            "text     0\n",
            "dtype: int64\n",
            "label    0\n",
            "text     0\n",
            "dtype: int64\n"
          ]
        }
      ],
      "source": [
        "####################################################\n",
        "# Exploratory Data Analysis - check missing values #\n",
        "####################################################\n",
        "print(train.isna().sum())\n",
        "print(test.isna().sum())\n"
      ]
    },
    {
      "cell_type": "code",
      "execution_count": 3,
      "metadata": {
        "id": "zOMKywn4zReN"
      },
      "outputs": [
        {
          "name": "stdout",
          "output_type": "stream",
          "text": [
            "ham     0.865997\n",
            "spam    0.134003\n",
            "Name: label, dtype: float64\n",
            "ham     0.865661\n",
            "spam    0.134339\n",
            "Name: label, dtype: float64\n"
          ]
        }
      ],
      "source": [
        "############################################\n",
        "# Exploratory Data Analysis - value counts #\n",
        "############################################\n",
        "print(train['label'].value_counts(normalize=True))\n",
        "print(test['label'].value_counts(normalize=True))\n"
      ]
    },
    {
      "cell_type": "code",
      "execution_count": 4,
      "metadata": {},
      "outputs": [
        {
          "name": "stdout",
          "output_type": "stream",
          "text": [
            "spam    560\n",
            "ham     560\n",
            "Name: label, dtype: int64\n",
            "ham     187\n",
            "spam    187\n",
            "Name: label, dtype: int64\n"
          ]
        }
      ],
      "source": [
        "#######################################\n",
        "# Downsampling to balance the dataset #\n",
        "#######################################\n",
        "import pandas as pd\n",
        "\n",
        "def downsampling_to_balance(data, label_column):\n",
        "    value_counts = pd.DataFrame(data[label_column].value_counts())\n",
        "    unique_labels = value_counts.index\n",
        "    min_frequency = min(value_counts[label_column])\n",
        "    downsampled_df = pd.DataFrame()\n",
        "    for label in unique_labels:\n",
        "        data_reduced = data[data[label_column] == label]\n",
        "        data_reduced = data_reduced.sample(n=min_frequency, random_state=123)\n",
        "        downsampled_df = pd.concat([downsampled_df, data_reduced], ignore_index=True)\n",
        "    # Shuffle rows\n",
        "    downsampled_df = downsampled_df.sample(frac = 1, random_state=123).reset_index(drop=True)\n",
        "    \n",
        "    return downsampled_df\n",
        "    \n",
        "train = downsampling_to_balance(train, 'label')\n",
        "test = downsampling_to_balance(test, 'label')\n",
        "\n",
        "# Analize value counts of down sampled dataset\n",
        "print(train['label'].value_counts())\n",
        "print(test['label'].value_counts())\n"
      ]
    },
    {
      "cell_type": "code",
      "execution_count": 5,
      "metadata": {},
      "outputs": [
        {
          "data": {
            "text/html": [
              "<div>\n",
              "<style scoped>\n",
              "    .dataframe tbody tr th:only-of-type {\n",
              "        vertical-align: middle;\n",
              "    }\n",
              "\n",
              "    .dataframe tbody tr th {\n",
              "        vertical-align: top;\n",
              "    }\n",
              "\n",
              "    .dataframe thead th {\n",
              "        text-align: right;\n",
              "    }\n",
              "</style>\n",
              "<table border=\"1\" class=\"dataframe\">\n",
              "  <thead>\n",
              "    <tr style=\"text-align: right;\">\n",
              "      <th></th>\n",
              "      <th>label</th>\n",
              "      <th>text</th>\n",
              "    </tr>\n",
              "  </thead>\n",
              "  <tbody>\n",
              "    <tr>\n",
              "      <th>0</th>\n",
              "      <td>1</td>\n",
              "      <td>hard live 121 chat just 60p/min. choose your g...</td>\n",
              "    </tr>\n",
              "    <tr>\n",
              "      <th>1</th>\n",
              "      <td>0</td>\n",
              "      <td>meet after lunch la...</td>\n",
              "    </tr>\n",
              "    <tr>\n",
              "      <th>2</th>\n",
              "      <td>0</td>\n",
              "      <td>yeah do! don‘t stand to close tho- you‘ll catc...</td>\n",
              "    </tr>\n",
              "    <tr>\n",
              "      <th>3</th>\n",
              "      <td>0</td>\n",
              "      <td>ok no prob. take ur time.</td>\n",
              "    </tr>\n",
              "    <tr>\n",
              "      <th>4</th>\n",
              "      <td>1</td>\n",
              "      <td>great news! call freefone 08006344447 to claim...</td>\n",
              "    </tr>\n",
              "  </tbody>\n",
              "</table>\n",
              "</div>"
            ],
            "text/plain": [
              "   label                                               text\n",
              "0      1  hard live 121 chat just 60p/min. choose your g...\n",
              "1      0                             meet after lunch la...\n",
              "2      0  yeah do! don‘t stand to close tho- you‘ll catc...\n",
              "3      0                          ok no prob. take ur time.\n",
              "4      1  great news! call freefone 08006344447 to claim..."
            ]
          },
          "execution_count": 5,
          "metadata": {},
          "output_type": "execute_result"
        }
      ],
      "source": [
        "######################################\n",
        "# Convert \"ham\" -> 0 and \"spam\" -> 1 #\n",
        "######################################\n",
        "train['label'] = train['label'].replace({\"ham\": 0, \"spam\": 1})\n",
        "test['label'] = test['label'].replace({\"ham\": 0, \"spam\": 1})\n",
        "\n",
        "train.head()\n"
      ]
    },
    {
      "cell_type": "code",
      "execution_count": 6,
      "metadata": {},
      "outputs": [],
      "source": [
        "###########################\n",
        "# Divide into \"x\" and \"y\" #\n",
        "###########################\n",
        "train_X = train['text']\n",
        "test_X = test['text']\n",
        "\n",
        "train_y = train['label']\n",
        "test_y = test['label']\n"
      ]
    },
    {
      "cell_type": "code",
      "execution_count": 7,
      "metadata": {},
      "outputs": [
        {
          "data": {
            "text/plain": [
              "0    hard live chat p min choose girl connect live ...\n",
              "1                                        meet lunch la\n",
              "2                 yeah stand close tho catch something\n",
              "3                                 ok prob take ur time\n",
              "4    great news call freefone claim guaranteed cash...\n",
              "dtype: object"
            ]
          },
          "execution_count": 7,
          "metadata": {},
          "output_type": "execute_result"
        }
      ],
      "source": [
        "#####################################\n",
        "# Text preprocessing: Data cleaning #\n",
        "#####################################\n",
        "import nltk\n",
        "#nltk.download('all')\n",
        "import re\n",
        "from nltk.stem import WordNetLemmatizer\n",
        "\n",
        "def text_cleaning(data):\n",
        "    # Create a list text\n",
        "    text = list(data)\n",
        "\n",
        "    # Preprocessing loop\n",
        "    lemmatizer = WordNetLemmatizer()\n",
        "\n",
        "    corpus = []\n",
        "    for i in range(len(text)):\n",
        "        r = re.sub('[^a-zA-Z]', ' ', text[i])\n",
        "        r = r.lower()\n",
        "        r = r.split()\n",
        "        r = [word for word in r if word not in nltk.corpus.stopwords.words('english')]\n",
        "        r = [lemmatizer.lemmatize(word) for word in r]\n",
        "        r = ' '.join(r)\n",
        "        corpus.append(r)\n",
        "\n",
        "    return pd.Series(corpus)\n",
        "\n",
        "# Clean train and test datasets\n",
        "train_X = text_cleaning(data=train_X)\n",
        "test_X = text_cleaning(data=test_X)\n",
        "\n",
        "train_X.head()\n"
      ]
    },
    {
      "cell_type": "code",
      "execution_count": 8,
      "metadata": {},
      "outputs": [
        {
          "name": "stderr",
          "output_type": "stream",
          "text": [
            "2023-01-13 11:01:21.774241: I tensorflow/core/platform/cpu_feature_guard.cc:193] This TensorFlow binary is optimized with oneAPI Deep Neural Network Library (oneDNN) to use the following CPU instructions in performance-critical operations:  SSE4.1 SSE4.2 AVX AVX2 FMA\n",
            "To enable them in other operations, rebuild TensorFlow with the appropriate compiler flags.\n"
          ]
        }
      ],
      "source": [
        "####################################\n",
        "# Tokenize train and test datasets #\n",
        "####################################\n",
        "from keras.preprocessing.text import Tokenizer\n",
        "from keras.preprocessing import sequence\n",
        "from keras.utils import pad_sequences\n",
        "#from tensorflow.keras.preprocessing.sequence import pad_sequences\n",
        "\n",
        "vocab_size = 1000\n",
        "max_len = 50\n",
        "\n",
        "# Training the tokenizer\n",
        "token=Tokenizer(num_words=vocab_size,oov_token='<OOV>')\n",
        "token.fit_on_texts(train_X)\n",
        "\n",
        "# Check if tokenizer worked properly\n",
        "# token.word_index    \n",
        "\n",
        "# Generating token embeddings\n",
        "Training_seq = token.texts_to_sequences(train_X)\n",
        "Training_pad = pad_sequences(Training_seq,\n",
        "                                maxlen = max_len,\n",
        "                                padding = 'post',\n",
        "                                truncating = 'post')\n",
        "\n",
        "Testing_seq = token.texts_to_sequences(test_X)\n",
        "Testing_pad = pad_sequences(Testing_seq,\n",
        "                            maxlen = max_len,\n",
        "                            padding = 'post',\n",
        "                            truncating = 'post')\n"
      ]
    },
    {
      "cell_type": "code",
      "execution_count": 9,
      "metadata": {},
      "outputs": [],
      "source": [
        "#################################################\n",
        "# Create the architecture of the Neural Network #\n",
        "#################################################\n",
        "from tensorflow import keras\n",
        "from keras import regularizers\n",
        "from keras.layers import Embedding, GlobalAveragePooling1D, Dense, Dropout\n",
        "from keras.losses import BinaryCrossentropy\n",
        "from keras.optimizers import Adam, SGD, RMSprop, Adadelta, Adagrad, Adamax, Nadam, Ftrl\n",
        "from keras.callbacks import EarlyStopping, ReduceLROnPlateau\n",
        "\n",
        "def get_tf_text_classifier(dimEmbeddingInput=vocab_size, dimEmbeddingOutput=16, lenEmbeddingInput=max_len,\n",
        "                           neuronsDenseLayer=32, wrl2_1=0.0, dropout1=0.3,\n",
        "                           activation='relu', optimizer=Adam(learning_rate=0.001)):\n",
        "    model = keras.Sequential()\n",
        "    model.add(Embedding(input_dim=dimEmbeddingInput, output_dim=dimEmbeddingOutput, input_length=lenEmbeddingInput))\n",
        "    model.add(GlobalAveragePooling1D())\n",
        "    model.add(Dense(neuronsDenseLayer, kernel_regularizer=regularizers.L2(wrl2_1),activation=activation))\n",
        "    model.add(Dropout(dropout1))\n",
        "    model.add(Dense(1, activation='sigmoid'))\n",
        "\n",
        "    model.compile(loss = BinaryCrossentropy(from_logits = False),\n",
        "                  metrics = ['accuracy'],\n",
        "                  optimizer = optimizer)\n",
        "    return model\n",
        "\n",
        "es = EarlyStopping(patience = 3,\n",
        "                   monitor = 'val_loss',\n",
        "                   min_delta = 1e-4,\n",
        "                   restore_best_weights = True)\n",
        "\n",
        "lr = ReduceLROnPlateau(patience = 2,\n",
        "                       monitor = 'val_loss',\n",
        "                       min_delta = 1e-4,\n",
        "                       factor = 0.5,\n",
        "                       verbose = 0)\n"
      ]
    },
    {
      "cell_type": "code",
      "execution_count": 10,
      "metadata": {},
      "outputs": [
        {
          "name": "stdout",
          "output_type": "stream",
          "text": [
            "Epoch 1/50\n"
          ]
        },
        {
          "name": "stderr",
          "output_type": "stream",
          "text": [
            "2023-01-13 11:01:52.437250: I tensorflow/core/platform/cpu_feature_guard.cc:193] This TensorFlow binary is optimized with oneAPI Deep Neural Network Library (oneDNN) to use the following CPU instructions in performance-critical operations:  SSE4.1 SSE4.2 AVX AVX2 FMA\n",
            "To enable them in other operations, rebuild TensorFlow with the appropriate compiler flags.\n"
          ]
        },
        {
          "name": "stdout",
          "output_type": "stream",
          "text": [
            "35/35 [==============================] - 1s 7ms/step - loss: 0.6877 - accuracy: 0.5089 - val_loss: 0.6823 - val_accuracy: 0.5080 - lr: 0.0010\n",
            "Epoch 2/50\n",
            "35/35 [==============================] - 0s 3ms/step - loss: 0.6753 - accuracy: 0.5813 - val_loss: 0.6651 - val_accuracy: 0.6310 - lr: 0.0010\n",
            "Epoch 3/50\n",
            "35/35 [==============================] - 0s 2ms/step - loss: 0.6506 - accuracy: 0.6929 - val_loss: 0.6326 - val_accuracy: 0.7647 - lr: 0.0010\n",
            "Epoch 4/50\n",
            "35/35 [==============================] - 0s 3ms/step - loss: 0.6047 - accuracy: 0.8054 - val_loss: 0.5727 - val_accuracy: 0.8449 - lr: 0.0010\n",
            "Epoch 5/50\n",
            "35/35 [==============================] - 0s 2ms/step - loss: 0.5369 - accuracy: 0.8768 - val_loss: 0.4947 - val_accuracy: 0.9037 - lr: 0.0010\n",
            "Epoch 6/50\n",
            "35/35 [==============================] - 0s 3ms/step - loss: 0.4546 - accuracy: 0.9071 - val_loss: 0.4108 - val_accuracy: 0.9091 - lr: 0.0010\n",
            "Epoch 7/50\n",
            "35/35 [==============================] - 0s 2ms/step - loss: 0.3675 - accuracy: 0.9250 - val_loss: 0.3344 - val_accuracy: 0.9198 - lr: 0.0010\n",
            "Epoch 8/50\n",
            "35/35 [==============================] - 0s 3ms/step - loss: 0.3019 - accuracy: 0.9375 - val_loss: 0.2729 - val_accuracy: 0.9305 - lr: 0.0010\n",
            "Epoch 9/50\n",
            "35/35 [==============================] - 0s 3ms/step - loss: 0.2466 - accuracy: 0.9509 - val_loss: 0.2278 - val_accuracy: 0.9492 - lr: 0.0010\n",
            "Epoch 10/50\n",
            "35/35 [==============================] - 0s 3ms/step - loss: 0.2054 - accuracy: 0.9491 - val_loss: 0.1965 - val_accuracy: 0.9599 - lr: 0.0010\n",
            "Epoch 11/50\n",
            "35/35 [==============================] - 0s 2ms/step - loss: 0.1739 - accuracy: 0.9607 - val_loss: 0.1716 - val_accuracy: 0.9519 - lr: 0.0010\n",
            "Epoch 12/50\n",
            "35/35 [==============================] - 0s 3ms/step - loss: 0.1503 - accuracy: 0.9696 - val_loss: 0.1543 - val_accuracy: 0.9545 - lr: 0.0010\n",
            "Epoch 13/50\n",
            "35/35 [==============================] - 0s 2ms/step - loss: 0.1329 - accuracy: 0.9670 - val_loss: 0.1417 - val_accuracy: 0.9599 - lr: 0.0010\n",
            "Epoch 14/50\n",
            "35/35 [==============================] - 0s 3ms/step - loss: 0.1210 - accuracy: 0.9714 - val_loss: 0.1339 - val_accuracy: 0.9599 - lr: 0.0010\n",
            "Epoch 15/50\n",
            "35/35 [==============================] - 0s 3ms/step - loss: 0.1090 - accuracy: 0.9786 - val_loss: 0.1226 - val_accuracy: 0.9599 - lr: 0.0010\n",
            "Epoch 16/50\n",
            "35/35 [==============================] - 0s 3ms/step - loss: 0.1014 - accuracy: 0.9714 - val_loss: 0.1161 - val_accuracy: 0.9599 - lr: 0.0010\n",
            "Epoch 17/50\n",
            "35/35 [==============================] - 0s 2ms/step - loss: 0.0926 - accuracy: 0.9795 - val_loss: 0.1106 - val_accuracy: 0.9599 - lr: 0.0010\n",
            "Epoch 18/50\n",
            "35/35 [==============================] - 0s 2ms/step - loss: 0.0853 - accuracy: 0.9768 - val_loss: 0.1061 - val_accuracy: 0.9626 - lr: 0.0010\n",
            "Epoch 19/50\n",
            "35/35 [==============================] - 0s 3ms/step - loss: 0.0805 - accuracy: 0.9804 - val_loss: 0.1051 - val_accuracy: 0.9599 - lr: 0.0010\n",
            "Epoch 20/50\n",
            "35/35 [==============================] - 0s 2ms/step - loss: 0.0798 - accuracy: 0.9786 - val_loss: 0.1043 - val_accuracy: 0.9626 - lr: 0.0010\n",
            "Epoch 21/50\n",
            "35/35 [==============================] - 0s 2ms/step - loss: 0.0677 - accuracy: 0.9795 - val_loss: 0.0967 - val_accuracy: 0.9599 - lr: 0.0010\n",
            "Epoch 22/50\n",
            "35/35 [==============================] - 0s 3ms/step - loss: 0.0602 - accuracy: 0.9830 - val_loss: 0.0948 - val_accuracy: 0.9626 - lr: 0.0010\n",
            "Epoch 23/50\n",
            "35/35 [==============================] - 0s 2ms/step - loss: 0.0637 - accuracy: 0.9830 - val_loss: 0.0923 - val_accuracy: 0.9626 - lr: 0.0010\n",
            "Epoch 24/50\n",
            "35/35 [==============================] - 0s 3ms/step - loss: 0.0619 - accuracy: 0.9812 - val_loss: 0.0906 - val_accuracy: 0.9652 - lr: 0.0010\n",
            "Epoch 25/50\n",
            "35/35 [==============================] - 0s 2ms/step - loss: 0.0550 - accuracy: 0.9884 - val_loss: 0.0940 - val_accuracy: 0.9599 - lr: 0.0010\n",
            "Epoch 26/50\n",
            "35/35 [==============================] - 0s 3ms/step - loss: 0.0515 - accuracy: 0.9902 - val_loss: 0.0871 - val_accuracy: 0.9652 - lr: 0.0010\n",
            "Epoch 27/50\n",
            "35/35 [==============================] - 0s 2ms/step - loss: 0.0508 - accuracy: 0.9848 - val_loss: 0.0873 - val_accuracy: 0.9626 - lr: 0.0010\n",
            "Epoch 28/50\n",
            "35/35 [==============================] - 0s 2ms/step - loss: 0.0477 - accuracy: 0.9884 - val_loss: 0.0859 - val_accuracy: 0.9626 - lr: 0.0010\n",
            "Epoch 29/50\n",
            "35/35 [==============================] - 0s 2ms/step - loss: 0.0456 - accuracy: 0.9902 - val_loss: 0.0864 - val_accuracy: 0.9626 - lr: 0.0010\n",
            "Epoch 30/50\n",
            "35/35 [==============================] - 0s 3ms/step - loss: 0.0443 - accuracy: 0.9893 - val_loss: 0.0839 - val_accuracy: 0.9652 - lr: 0.0010\n",
            "Epoch 31/50\n",
            "35/35 [==============================] - 0s 3ms/step - loss: 0.0434 - accuracy: 0.9884 - val_loss: 0.0838 - val_accuracy: 0.9652 - lr: 0.0010\n",
            "Epoch 32/50\n",
            "35/35 [==============================] - 0s 3ms/step - loss: 0.0376 - accuracy: 0.9929 - val_loss: 0.0863 - val_accuracy: 0.9599 - lr: 0.0010\n",
            "Epoch 33/50\n",
            "35/35 [==============================] - 0s 3ms/step - loss: 0.0374 - accuracy: 0.9911 - val_loss: 0.0831 - val_accuracy: 0.9652 - lr: 5.0000e-04\n",
            "Epoch 34/50\n",
            "35/35 [==============================] - 0s 3ms/step - loss: 0.0344 - accuracy: 0.9929 - val_loss: 0.0830 - val_accuracy: 0.9652 - lr: 5.0000e-04\n",
            "Epoch 35/50\n",
            "35/35 [==============================] - 0s 3ms/step - loss: 0.0349 - accuracy: 0.9893 - val_loss: 0.0825 - val_accuracy: 0.9652 - lr: 5.0000e-04\n",
            "Epoch 36/50\n",
            "35/35 [==============================] - 0s 3ms/step - loss: 0.0358 - accuracy: 0.9920 - val_loss: 0.0823 - val_accuracy: 0.9652 - lr: 5.0000e-04\n",
            "Epoch 37/50\n",
            "35/35 [==============================] - 0s 3ms/step - loss: 0.0322 - accuracy: 0.9902 - val_loss: 0.0816 - val_accuracy: 0.9652 - lr: 5.0000e-04\n",
            "Epoch 38/50\n",
            "35/35 [==============================] - 0s 3ms/step - loss: 0.0358 - accuracy: 0.9902 - val_loss: 0.0817 - val_accuracy: 0.9652 - lr: 5.0000e-04\n",
            "Epoch 39/50\n",
            "35/35 [==============================] - 0s 3ms/step - loss: 0.0310 - accuracy: 0.9911 - val_loss: 0.0809 - val_accuracy: 0.9679 - lr: 5.0000e-04\n",
            "Epoch 40/50\n",
            "35/35 [==============================] - 0s 3ms/step - loss: 0.0341 - accuracy: 0.9929 - val_loss: 0.0811 - val_accuracy: 0.9679 - lr: 5.0000e-04\n",
            "Epoch 41/50\n",
            "35/35 [==============================] - 0s 2ms/step - loss: 0.0300 - accuracy: 0.9937 - val_loss: 0.0813 - val_accuracy: 0.9679 - lr: 5.0000e-04\n",
            "Epoch 42/50\n",
            "35/35 [==============================] - 0s 2ms/step - loss: 0.0343 - accuracy: 0.9920 - val_loss: 0.0814 - val_accuracy: 0.9679 - lr: 2.5000e-04\n",
            "Train error 0.9919642806053162\n",
            "Test error  0.9679144620895386\n"
          ]
        },
        {
          "data": {
            "image/png": "[encoded data removed]",
            "text/plain": [
              "<Figure size 800x500 with 1 Axes>"
            ]
          },
          "metadata": {},
          "output_type": "display_data"
        }
      ],
      "source": [
        "################################\n",
        "# Initiate and train the model #\n",
        "################################\n",
        "import matplotlib.pyplot as plt\n",
        "import pandas as pd\n",
        "\n",
        "# Initiate model\n",
        "model = get_tf_text_classifier()\n",
        "\n",
        "# Train the model\n",
        "history = model.fit(Training_pad, train_y,\n",
        "                    validation_data=(Testing_pad, test_y),\n",
        "                    epochs = 50,\n",
        "                    verbose = 1,\n",
        "                    batch_size = 32,\n",
        "                    callbacks = [lr, es])\n",
        "\n",
        "# Compute test error\n",
        "score_test = model.evaluate(x=Testing_pad, y=test_y, verbose=0)\n",
        "\n",
        "# Print results\n",
        "print('Train error', history.history['accuracy'][-1])\n",
        "print('Test error ', score_test[1])\n",
        "\n",
        "# Plot training and validation history\n",
        "pd.DataFrame(history.history).plot(figsize=(8,5))\n",
        "plt.show()\n"
      ]
    },
    {
      "cell_type": "code",
      "execution_count": 26,
      "metadata": {},
      "outputs": [
        {
          "name": "stdout",
          "output_type": "stream",
          "text": [
            "1/1 [==============================] - 0s 21ms/step\n",
            "[0.8900685, 'spam']\n"
          ]
        }
      ],
      "source": [
        "#######################################################\n",
        "##### Function to predict messages based on model #####\n",
        "## (Returns list containing prediction and label, ... #\n",
        "####### ... ex. [0.008318834938108921, 'ham']) ########\n",
        "#######################################################\n",
        "\n",
        "def predict_message(pred_text):\n",
        "  # Data cleaning\n",
        "  pred_text = text_cleaning([pred_text])\n",
        "  # Tokenize\n",
        "  new_seq = token.texts_to_sequences([pred_text[0]])\n",
        "  padded = pad_sequences(new_seq, maxlen=max_len,\n",
        "                         padding='post',\n",
        "                         truncating='post')\n",
        "  prediction = model.predict(padded)\n",
        "  prediction = prediction[0][0]\n",
        "  return [prediction, \"ham\" if prediction < 0.5 else \"spam\"]\n",
        "\n",
        "pred_text = \"sale today! to stop texts call 98912460324\"\n",
        "\n",
        "prediction = predict_message(pred_text)\n",
        "\n",
        "print(prediction)\n"
      ]
    },
    {
      "cell_type": "code",
      "execution_count": 25,
      "metadata": {},
      "outputs": [
        {
          "name": "stdout",
          "output_type": "stream",
          "text": [
            "1/1 [==============================] - 0s 14ms/step\n",
            "1/1 [==============================] - 0s 15ms/step\n",
            "1/1 [==============================] - 0s 16ms/step\n",
            "1/1 [==============================] - 0s 16ms/step\n",
            "1/1 [==============================] - 0s 17ms/step\n",
            "1/1 [==============================] - 0s 16ms/step\n",
            "1/1 [==============================] - 0s 16ms/step\n",
            "You passed the challenge. Great job!\n"
          ]
        }
      ],
      "source": [
        "# Run this cell to test your function and model. Do not modify contents.\n",
        "def test_predictions():\n",
        "  test_messages = [\"how are you doing today\",\n",
        "                   \"sale today! to stop texts call 98912460324\",\n",
        "                   \"i dont want to go. can we try it a different day? available sat\",\n",
        "                   \"our new mobile video service is live. just install on your phone to start watching.\",\n",
        "                   \"you have won £1000 cash! call to claim your prize.\",\n",
        "                   \"i'll bring it tomorrow. don't forget the milk.\",\n",
        "                   \"wow, is your arm alright. that happened to me one time too\"\n",
        "                  ]\n",
        "\n",
        "  test_answers = [\"ham\", \"spam\", \"ham\", \"spam\", \"spam\", \"ham\", \"ham\"]\n",
        "  passed = True\n",
        "\n",
        "  for msg, ans in zip(test_messages, test_answers):\n",
        "    prediction = predict_message(msg)\n",
        "    if prediction[1] != ans:\n",
        "      passed = False\n",
        "\n",
        "  if passed:\n",
        "    print(\"You passed the challenge. Great job!\")\n",
        "  else:\n",
        "    print(\"You haven't passed yet. Keep trying.\")\n",
        "\n",
        "test_predictions()\n"
      ]
    }
  ],
  "metadata": {
    "colab": {
      "name": "fcc_sms_text_classification.ipynb",
      "private_outputs": true,
      "provenance": [],
      "toc_visible": true
    },
    "kernelspec": {
      "display_name": "my_ml_env_39",
      "language": "python",
      "name": "python3"
    },
    "language_info": {
      "codemirror_mode": {
        "name": "ipython",
        "version": 3
      },
      "file_extension": ".py",
      "mimetype": "text/x-python",
      "name": "python",
      "nbconvert_exporter": "python",
      "pygments_lexer": "ipython3",
      "version": "3.9.15"
    },
    "vscode": {
      "interpreter": {
        "hash": "22b43b7cabb8e439942e8b3599732587a068fb79f44b704b7e8ee482b79e24ab"
      }
    }
  },
  "nbformat": 4,
  "nbformat_minor": 0
}
